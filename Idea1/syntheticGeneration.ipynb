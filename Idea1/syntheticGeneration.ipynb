{
 "cells": [
  {
   "cell_type": "code",
   "execution_count": null,
   "metadata": {},
   "outputs": [
    {
     "ename": "",
     "evalue": "",
     "output_type": "error",
     "traceback": [
      "\u001b[1;31mThe kernel failed to start as the Python Environment 'torch_env (Python -1.-1.-1)' is no longer available. Consider selecting another kernel or refreshing the list of Python Environments."
     ]
    }
   ],
   "source": [
    "import wandb\n",
    "wandb.init(project=\"dysgraphia-gan\", entity=\"your_wandb_username\")\n",
    "\n",
    "wandb.config.update({\n",
    "    \"dataset\": \"Dysgraphia Handwriting\",\n",
    "    \"model\": \"StyleGAN2-ADA\",\n",
    "    \"resolution\": \"256x256\",\n",
    "    \"epochs\": 50\n",
    "})\n"
   ]
  },
  {
   "cell_type": "code",
   "execution_count": null,
   "metadata": {},
   "outputs": [],
   "source": []
  }
 ],
 "metadata": {
  "kernelspec": {
   "display_name": "torch_env",
   "language": "python",
   "name": "python3"
  },
  "language_info": {
   "name": "python",
   "version": "undefined.undefined.undefined"
  }
 },
 "nbformat": 4,
 "nbformat_minor": 2
}
